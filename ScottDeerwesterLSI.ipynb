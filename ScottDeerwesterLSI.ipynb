{
  "nbformat": 4,
  "nbformat_minor": 0,
  "metadata": {
    "colab": {
      "name": "ScottDeerwesterLSI.ipynb",
      "version": "0.3.2",
      "provenance": [],
      "include_colab_link": true
    },
    "kernelspec": {
      "name": "python3",
      "display_name": "Python 3"
    }
  },
  "cells": [
    {
      "cell_type": "markdown",
      "metadata": {
        "id": "view-in-github",
        "colab_type": "text"
      },
      "source": [
        "<a href=\"https://colab.research.google.com/github/Ramaseshanr/anlp/blob/master/ScottDeerwesterLSI.ipynb\" target=\"_parent\"><img src=\"https://colab.research.google.com/assets/colab-badge.svg\" alt=\"Open In Colab\"/></a>"
      ]
    },
    {
      "metadata": {
        "id": "c0VJ4uMzV3MI",
        "colab_type": "text"
      },
      "cell_type": "markdown",
      "source": [
        "**1. Set up the corpus**"
      ]
    },
    {
      "metadata": {
        "id": "0racVQA2GDQm",
        "colab_type": "code",
        "colab": {
          "base_uri": "https://localhost:8080/",
          "height": 54
        },
        "outputId": "3cda69bb-64cb-4981-e565-32fe68ee34b5"
      },
      "cell_type": "code",
      "source": [
        "from gensim import corpora\n",
        "documents = [\"Human machine interface for lab abc computer applications\",\n",
        "              \"A survey of user opinion of computer system response time\",\n",
        "              \"The EPS user interface management system\",\n",
        "              \"System and human system engineering testing of EPS\",\n",
        "              \"Relation of user perceived response time to error measurement\",\n",
        "              \"The generation of random binary unordered trees\",\n",
        "              \"The intersection graph of paths in trees\",\n",
        "              \"Graph minors IV Widths of trees and well quasi ordering\",\n",
        "              \"Graph minors A survey\"]\n",
        "print(documents)\n"
      ],
      "execution_count": 17,
      "outputs": [
        {
          "output_type": "stream",
          "text": [
            "['Human machine interface for lab abc computer applications', 'A survey of user opinion of computer system response time', 'The EPS user interface management system', 'System and human system engineering testing of EPS', 'Relation of user perceived response time to error measurement', 'The generation of random binary unordered trees', 'The intersection graph of paths in trees', 'Graph minors IV Widths of trees and well quasi ordering', 'Graph minors A survey']\n"
          ],
          "name": "stdout"
        }
      ]
    },
    {
      "metadata": {
        "id": "IHfOmjuuWH1J",
        "colab_type": "text"
      },
      "cell_type": "markdown",
      "source": [
        "**2. Tokenize the documents**"
      ]
    },
    {
      "metadata": {
        "id": "X01LLGyFH9vf",
        "colab_type": "code",
        "colab": {
          "base_uri": "https://localhost:8080/",
          "height": 173
        },
        "outputId": "b559bf11-a280-4374-8619-1d9a4284e1a7"
      },
      "cell_type": "code",
      "source": [
        "#Tokeninze\n",
        "from pprint import pprint\n",
        "stoplist = set('for a of the and to in'.split())\n",
        "bow = [\n",
        "     [word for word in document.lower().split() if word not in stoplist]\n",
        "     for document in documents\n",
        "]\n",
        "pprint(bow)"
      ],
      "execution_count": 18,
      "outputs": [
        {
          "output_type": "stream",
          "text": [
            "[['human', 'machine', 'interface', 'lab', 'abc', 'computer', 'applications'],\n",
            " ['survey', 'user', 'opinion', 'computer', 'system', 'response', 'time'],\n",
            " ['eps', 'user', 'interface', 'management', 'system'],\n",
            " ['system', 'human', 'system', 'engineering', 'testing', 'eps'],\n",
            " ['relation', 'user', 'perceived', 'response', 'time', 'error', 'measurement'],\n",
            " ['generation', 'random', 'binary', 'unordered', 'trees'],\n",
            " ['intersection', 'graph', 'paths', 'trees'],\n",
            " ['graph', 'minors', 'iv', 'widths', 'trees', 'well', 'quasi', 'ordering'],\n",
            " ['graph', 'minors', 'survey']]\n"
          ],
          "name": "stdout"
        }
      ]
    },
    {
      "metadata": {
        "id": "Xi2LZG2SEBXq",
        "colab_type": "code",
        "colab": {}
      },
      "cell_type": "code",
      "source": [
        "texts = [\n",
        "  [word for word in document.lower().split() if word not in stoplist]\n",
        "    for document in documents]"
      ],
      "execution_count": 0,
      "outputs": []
    },
    {
      "metadata": {
        "id": "f5I6AAgBWQwm",
        "colab_type": "text"
      },
      "cell_type": "markdown",
      "source": [
        "**Save the dictionary for persistence**"
      ]
    },
    {
      "metadata": {
        "id": "-k_eX5_8IcNb",
        "colab_type": "code",
        "colab": {
          "base_uri": "https://localhost:8080/",
          "height": 625
        },
        "outputId": "0ddedd32-89df-4719-8c11-bdd17b23cd82"
      },
      "cell_type": "code",
      "source": [
        "from gensim import corpora\n",
        "dictionary = corpora.Dictionary(texts)\n",
        "dictionary.save('/home/deerwester.dict')  # store the dictionary, for future reference\n",
        "pprint(dictionary.token2id)\n"
      ],
      "execution_count": 20,
      "outputs": [
        {
          "output_type": "stream",
          "text": [
            "{'abc': 0,\n",
            " 'applications': 1,\n",
            " 'binary': 21,\n",
            " 'computer': 2,\n",
            " 'engineering': 15,\n",
            " 'eps': 13,\n",
            " 'error': 17,\n",
            " 'generation': 22,\n",
            " 'graph': 26,\n",
            " 'human': 3,\n",
            " 'interface': 4,\n",
            " 'intersection': 27,\n",
            " 'iv': 29,\n",
            " 'lab': 5,\n",
            " 'machine': 6,\n",
            " 'management': 14,\n",
            " 'measurement': 18,\n",
            " 'minors': 30,\n",
            " 'opinion': 7,\n",
            " 'ordering': 31,\n",
            " 'paths': 28,\n",
            " 'perceived': 19,\n",
            " 'quasi': 32,\n",
            " 'random': 23,\n",
            " 'relation': 20,\n",
            " 'response': 8,\n",
            " 'survey': 9,\n",
            " 'system': 10,\n",
            " 'testing': 16,\n",
            " 'time': 11,\n",
            " 'trees': 24,\n",
            " 'unordered': 25,\n",
            " 'user': 12,\n",
            " 'well': 33,\n",
            " 'widths': 34}\n"
          ],
          "name": "stdout"
        }
      ]
    },
    {
      "metadata": {
        "id": "rNPLaVlaWZEa",
        "colab_type": "text"
      },
      "cell_type": "markdown",
      "source": [
        "**Create TFIDF for term-Document Matrix**"
      ]
    },
    {
      "metadata": {
        "id": "MKru_pjzKdYE",
        "colab_type": "code",
        "colab": {
          "base_uri": "https://localhost:8080/",
          "height": 211
        },
        "outputId": "51f395c6-a34c-4709-c99b-62b34cb6a60c"
      },
      "cell_type": "code",
      "source": [
        "from gensim import models\n",
        "corpus = [dictionary.doc2bow(text) for text in texts]\n",
        "tfidf = models.TfidfModel(corpus)\n",
        "print(tfidf)\n",
        "corpus_tfidf = tfidf[corpus]\n",
        "for doc in corpus_tfidf:\n",
        "  print(doc)"
      ],
      "execution_count": 21,
      "outputs": [
        {
          "output_type": "stream",
          "text": [
            "TfidfModel(num_docs=9, num_nnz=51)\n",
            "[(0, 0.4301019571350565), (1, 0.4301019571350565), (2, 0.2944198962221451), (3, 0.2944198962221451), (4, 0.2944198962221451), (5, 0.4301019571350565), (6, 0.4301019571350565)]\n",
            "[(2, 0.3726494271826947), (7, 0.5443832091958983), (8, 0.3726494271826947), (9, 0.3726494271826947), (10, 0.27219160459794917), (11, 0.3726494271826947), (12, 0.27219160459794917)]\n",
            "[(4, 0.438482464916089), (10, 0.32027755044706185), (12, 0.32027755044706185), (13, 0.438482464916089), (14, 0.6405551008941237)]\n",
            "[(3, 0.3449874408519962), (10, 0.5039733231394895), (13, 0.3449874408519962), (15, 0.5039733231394895), (16, 0.5039733231394895)]\n",
            "[(8, 0.30055933182961736), (11, 0.30055933182961736), (12, 0.21953536176370683), (17, 0.43907072352741366), (18, 0.43907072352741366), (19, 0.43907072352741366), (20, 0.43907072352741366)]\n",
            "[(21, 0.48507125007266594), (22, 0.48507125007266594), (23, 0.48507125007266594), (24, 0.24253562503633297), (25, 0.48507125007266594)]\n",
            "[(24, 0.31622776601683794), (26, 0.31622776601683794), (27, 0.6324555320336759), (28, 0.6324555320336759)]\n",
            "[(24, 0.20466057569885868), (26, 0.20466057569885868), (29, 0.40932115139771735), (30, 0.2801947048062438), (31, 0.40932115139771735), (32, 0.40932115139771735), (33, 0.40932115139771735), (34, 0.40932115139771735)]\n",
            "[(9, 0.6282580468670046), (26, 0.45889394536615247), (30, 0.6282580468670046)]\n"
          ],
          "name": "stdout"
        }
      ]
    },
    {
      "metadata": {
        "id": "WOy1ZFXAFBao",
        "colab_type": "code",
        "colab": {}
      },
      "cell_type": "code",
      "source": [
        "lsi = models.LsiModel(corpus_tfidf, id2word=dictionary, num_topics=2)  # initialize an LSI transformation\n",
        "corpus_lsi = lsi[corpus_tfidf]"
      ],
      "execution_count": 0,
      "outputs": []
    },
    {
      "metadata": {
        "id": "-bF_-xotPA7B",
        "colab_type": "code",
        "colab": {
          "base_uri": "https://localhost:8080/",
          "height": 173
        },
        "outputId": "0db23dda-a4ce-421f-c757-27daf5b7789a"
      },
      "cell_type": "code",
      "source": [
        "corpus_tfidf = tfidf[corpus]\n",
        "corpus_lsi = lsi[corpus_tfidf]\n",
        "for doc in corpus_lsi:  # both bow->tfidf and tfidf->lsi transformations are actually executed here, on the fly\n",
        "  print(doc)"
      ],
      "execution_count": 23,
      "outputs": [
        {
          "output_type": "stream",
          "text": [
            "[(0, 0.3405711798684177), (1, -0.20602251622679751)]\n",
            "[(0, 0.6933040002171562), (1, 0.0072327583903847095)]\n",
            "[(0, 0.5902607670389705), (1, -0.3526046949085597)]\n",
            "[(0, 0.5214901821825111), (1, -0.3388797615405557)]\n",
            "[(0, 0.3953319317635446), (1, -0.05919285336660332)]\n",
            "[(0, 0.036353173528494105), (1, 0.18146550208818904)]\n",
            "[(0, 0.1470901232877918), (1, 0.49432948127822274)]\n",
            "[(0, 0.21407117317565655), (1, 0.6406456664453936)]\n",
            "[(0, 0.40066568318171086), (1, 0.6413108299093987)]\n"
          ],
          "name": "stdout"
        }
      ]
    },
    {
      "metadata": {
        "id": "oEQMGOTqOm-P",
        "colab_type": "code",
        "colab": {
          "base_uri": "https://localhost:8080/",
          "height": 211
        },
        "outputId": "d16c9f6d-4fef-4e7e-8983-cb456d388073"
      },
      "cell_type": "code",
      "source": [
        "lsi = models.LsiModel(corpus_tfidf, id2word=dictionary, num_topics=5)  # initialize an LSI transformation\n",
        "corpus_lsi = lsi[corpus_tfidf]\n",
        "lsi.print_topics(5)"
      ],
      "execution_count": 24,
      "outputs": [
        {
          "output_type": "execute_result",
          "data": {
            "text/plain": [
              "[(0,\n",
              "  '0.400*\"system\" + 0.318*\"survey\" + 0.290*\"user\" + 0.274*\"eps\" + 0.236*\"management\" + 0.236*\"opinion\" + 0.235*\"time\" + 0.235*\"response\" + 0.224*\"interface\" + 0.224*\"computer\"'),\n",
              " (1,\n",
              "  '0.421*\"minors\" + 0.420*\"graph\" + 0.293*\"survey\" + 0.239*\"trees\" + 0.226*\"paths\" + 0.226*\"intersection\" + -0.204*\"system\" + -0.196*\"eps\" + 0.189*\"quasi\" + 0.189*\"ordering\"'),\n",
              " (2,\n",
              "  '-0.318*\"time\" + -0.318*\"response\" + -0.261*\"measurement\" + -0.261*\"relation\" + -0.261*\"error\" + -0.261*\"perceived\" + 0.248*\"eps\" + -0.203*\"opinion\" + 0.195*\"human\" + 0.190*\"engineering\"'),\n",
              " (3,\n",
              "  '0.416*\"generation\" + 0.416*\"random\" + 0.416*\"unordered\" + 0.416*\"binary\" + 0.256*\"trees\" + -0.225*\"minors\" + -0.177*\"survey\" + 0.161*\"intersection\" + 0.161*\"paths\" + 0.119*\"perceived\"'),\n",
              " (4,\n",
              "  '0.398*\"lab\" + 0.398*\"machine\" + 0.398*\"applications\" + 0.398*\"abc\" + 0.301*\"computer\" + -0.242*\"system\" + -0.237*\"eps\" + -0.180*\"testing\" + -0.180*\"engineering\" + -0.166*\"management\"')]"
            ]
          },
          "metadata": {
            "tags": []
          },
          "execution_count": 24
        }
      ]
    },
    {
      "metadata": {
        "id": "wsqL9CQwQTbW",
        "colab_type": "code",
        "colab": {
          "base_uri": "https://localhost:8080/",
          "height": 193
        },
        "outputId": "feec3905-50f7-4b95-8717-8346e265c384"
      },
      "cell_type": "code",
      "source": [
        "for doc in corpus_lsi:  # both bow->tfidf and tfidf->lsi transformations are actually executed here, on the fly\n",
        "  print(doc)"
      ],
      "execution_count": 25,
      "outputs": [
        {
          "output_type": "stream",
          "text": [
            "[(0, 0.3405711798684186), (1, -0.20602251622679582), (2, 0.25163229326121866), (3, -0.06646636031661206), (4, 0.8634175502633779)]\n",
            "[(0, 0.6933040002171568), (1, 0.007232758390389324), (2, -0.42828031011610407), (3, 0.009221456247178576), (4, 0.07245540476224807)]\n",
            "[(0, 0.5902607670389728), (1, -0.35260469490855734), (2, 0.30883209258107525), (3, 0.015857166285259898), (4, -0.24165669441507642)]\n",
            "[(0, 0.521490182182514), (1, -0.33887976154055405), (2, 0.4328304015902543), (3, -0.03897722688933945), (4, -0.33361514099931716)]\n",
            "[(0, 0.39533193176354525), (1, -0.05919285336659884), (2, -0.6817088379096496), (3, 0.2755580402790444), (4, -0.053930814779539246)]\n",
            "[(0, 0.03635317352849356), (1, 0.18146550208818948), (2, 0.20409484571950304), (3, 0.8684447611727191), (4, 0.08100886500517024)]\n",
            "[(0, 0.14709012328778936), (1, 0.4943294812782232), (2, 0.2520741552399367), (3, 0.25758865011153953), (4, -0.04099410336036623)]\n",
            "[(0, 0.21407117317565316), (1, 0.640645666445394), (2, 0.212543956272626), (3, -0.1610783026220566), (4, -0.04465113586188706)]\n",
            "[(0, 0.4006656831817079), (1, 0.6413108299093999), (2, -0.043113010529970255), (3, -0.29127652603555243), (4, 0.015705670770857445)]\n"
          ],
          "name": "stdout"
        }
      ]
    },
    {
      "metadata": {
        "id": "9AQkJhRSQ0MS",
        "colab_type": "text"
      },
      "cell_type": "markdown",
      "source": [
        "Query the corpus"
      ]
    },
    {
      "metadata": {
        "id": "q0JCghX8Q3AT",
        "colab_type": "code",
        "colab": {
          "base_uri": "https://localhost:8080/",
          "height": 228
        },
        "outputId": "0db03f8a-2046-4134-ca59-305cb3f2e621"
      },
      "cell_type": "code",
      "source": [
        "from gensim import similarities\n",
        "doc = \"relation  emgineering\"\n",
        "vec_bow = dictionary.doc2bow(doc.lower().split())\n",
        "vec_lsi = lsi[vec_bow]  # convert the query to LSI space\n",
        "index = similarities.MatrixSimilarity(lsi[corpus])\n",
        "sims = index[vec_lsi] \n",
        "sims = sorted(enumerate(sims), key=lambda item: -item[1])\n",
        "for index, similarity in sims:\n",
        "  print(similarity,documents[index])\n"
      ],
      "execution_count": 27,
      "outputs": [
        {
          "output_type": "stream",
          "text": [
            "0.98137224 Relation of user perceived response time to error measurement\n",
            "0.71539164 A survey of user opinion of computer system response time\n",
            "0.1540112 The generation of random binary unordered trees\n",
            "0.04207113 The EPS user interface management system\n",
            "0.013246909 Graph minors A survey\n",
            "-0.13690966 The intersection graph of paths in trees\n",
            "-0.14376822 System and human system engineering testing of EPS\n",
            "-0.17135456 Human machine interface for lab abc computer applications\n",
            "-0.24740018 Graph minors IV Widths of trees and well quasi ordering\n"
          ],
          "name": "stdout"
        },
        {
          "output_type": "stream",
          "text": [
            "/usr/local/lib/python3.6/dist-packages/gensim/matutils.py:737: FutureWarning: Conversion of the second argument of issubdtype from `int` to `np.signedinteger` is deprecated. In future, it will be treated as `np.int64 == np.dtype(int).type`.\n",
            "  if np.issubdtype(vec.dtype, np.int):\n"
          ],
          "name": "stderr"
        }
      ]
    }
  ]
}