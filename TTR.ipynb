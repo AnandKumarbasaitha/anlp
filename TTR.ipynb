{
  "nbformat": 4,
  "nbformat_minor": 0,
  "metadata": {
    "colab": {
      "name": "TTR.ipynb",
      "version": "0.3.2",
      "provenance": [],
      "include_colab_link": true
    },
    "kernelspec": {
      "name": "python3",
      "display_name": "Python 3"
    }
  },
  "cells": [
    {
      "cell_type": "markdown",
      "metadata": {
        "id": "view-in-github",
        "colab_type": "text"
      },
      "source": [
        "<a href=\"https://colab.research.google.com/github/Ramaseshanr/ANLP/blob/master/TTR.ipynb\" target=\"_parent\"><img src=\"https://colab.research.google.com/assets/colab-badge.svg\" alt=\"Open In Colab\"/></a>"
      ]
    },
    {
      "metadata": {
        "id": "zbBcZocGcVU1",
        "colab_type": "code",
        "colab": {
          "base_uri": "https://localhost:8080/",
          "height": 52
        },
        "outputId": "6b01935e-4478-4271-c38d-3e92f6cfe987"
      },
      "cell_type": "code",
      "source": [
        "import nltk\n",
        "from nltk.corpus import stopwords\n",
        "#get the stop words for English\n",
        "stop_words = set(stopwords.words('english'))\n",
        "words_bryant = nltk.Text(nltk.corpus.gutenberg.words('bryant-stories.txt'))\n",
        "words_emma = nltk.Text(nltk.corpus.gutenberg.words('austen-emma.txt'))\n",
        "#convert to small letters\n",
        "words_bryant = [word.lower() for word in words_bryant if word.isalpha()]\n",
        "words_emma = [word.lower() for word in words_emma if word.isalpha()]\n",
        "#remove stop words\n",
        "words_bryant = [word.lower() for word in words_bryant if word not in stop_words][:15000]\n",
        "words_emma = [word.lower() for word in words_emma if word not in stop_words][:15000]\n",
        "TTR_bryant = len(set(words_bryant))/len(words_bryant)\n",
        "TTR_emma = len(set(words_emma))/len(words_emma)\n",
        "print('Number of tokens, Vocabulary, Type-token ratio (Bryant stories) = ', len(words_bryant), len(set(words_bryant)), TTR_bryant)\n",
        "print('Number of tokens, Vocabulary, Type-token ratio (Jane Austen Emma) = ', len(words_emma), len(set(words_emma)), TTR_emma)\n"
      ],
      "execution_count": 1,
      "outputs": [
        {
          "output_type": "stream",
          "text": [
            "Number of tokens, Vocabulary, Type-token ratio (Bryant stories) =  15000 2796 0.1864\n",
            "Number of tokens, Vocabulary, Type-token ratio (Jane Austen Emma) =  15000 3274 0.21826666666666666\n"
          ],
          "name": "stdout"
        }
      ]
    }
  ]
}