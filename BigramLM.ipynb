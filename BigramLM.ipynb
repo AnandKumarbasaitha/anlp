{
  "nbformat": 4,
  "nbformat_minor": 0,
  "metadata": {
    "colab": {
      "name": "BigramLM.ipynb",
      "version": "0.3.2",
      "provenance": [],
      "toc_visible": true,
      "include_colab_link": true
    },
    "kernelspec": {
      "name": "python3",
      "display_name": "Python 3"
    },
    "accelerator": "TPU"
  },
  "cells": [
    {
      "cell_type": "markdown",
      "metadata": {
        "id": "view-in-github",
        "colab_type": "text"
      },
      "source": [
        "<a href=\"https://colab.research.google.com/github/Ramaseshanr/anlp/blob/master/BigramLM.ipynb\" target=\"_parent\"><img src=\"https://colab.research.google.com/assets/colab-badge.svg\" alt=\"Open In Colab\"/></a>"
      ]
    },
    {
      "metadata": {
        "id": "mbGvmw-fPIHG",
        "colab_type": "code",
        "outputId": "19240e7b-549b-49ee-9bff-d217649af677",
        "colab": {
          "base_uri": "https://localhost:8080/",
          "height": 545
        }
      },
      "cell_type": "code",
      "source": [
        "import nltk\n",
        "from nltk.corpus import gutenberg\n",
        "nltk.download('gutenberg')\n",
        "nltk.download('punkt')\n",
        "from nltk import bigrams\n",
        "\n",
        "\n",
        "import matplotlib.pyplot as plt; plt.rcdefaults()\n",
        "import numpy as np\n",
        "import matplotlib.pyplot as plt\n",
        "\n",
        "import collections\n",
        "from collections import Counter, OrderedDict\n",
        "from nltk.corpus.reader.plaintext import PlaintextCorpusReader\n",
        "from google.colab import drive\n",
        "drive.mount(\"/content/drive/\", force_remount=True)\n",
        "\n",
        "\n",
        "corpusdir = '/content/drive/My Drive/Corpus'  # Directory of corpus.\n",
        "newcorpus = PlaintextCorpusReader(corpusdir, '.*')\n",
        "\n",
        "def bigram_model():\n",
        "    model = collections.defaultdict(lambda: collections.defaultdict(lambda: 0))\n",
        "    #for sentence in gutenberg.sents(\"austen-emma.txt\"):\n",
        "\n",
        "    for sentence in newcorpus.sents():\n",
        "        sentence = [word.lower() for word in sentence if word.isalpha()]  # get alpha only\n",
        "\n",
        "        for w1, w2 in bigrams(sentence, pad_right=True, pad_left=True):\n",
        "            model[(w1)][w2] += 1\n",
        "        #compute the probability\n",
        "        for w1 in model:\n",
        "            total_count = float(sum(model[w1].values()))\n",
        "            for w2 in model[w1]:\n",
        "                model[w1][w2] /= total_count\n",
        "\n",
        "    return model\n",
        "\n",
        "\n",
        "def predict_next_word(word):\n",
        "    model = bigram_model()\n",
        "    next_word = model[word]\n",
        "    nt = Counter(next_word).most_common(5)\n",
        "\n",
        "\n",
        "    predicted_word = list(zip(*nt))[0]\n",
        "    probability_score = list(zip(*nt))[1]\n",
        "    x_pos = np.arange(len(predicted_word))\n",
        "\n",
        "    # calculate slope and intercept for the linear trend line\n",
        "    slope, intercept = np.polyfit(x_pos, probability_score, 1)\n",
        "\n",
        "    plt.bar(x_pos, probability_score,align='center')\n",
        "    plt.xticks(x_pos, predicted_word)\n",
        "    plt.ylabel('Probability Score')\n",
        "    plt.xlabel('Predicted Words')\n",
        "    plt.show()\n",
        "\n",
        "predict_next_word('how')"
      ],
      "execution_count": 7,
      "outputs": [
        {
          "output_type": "stream",
          "text": [
            "[nltk_data] Downloading package gutenberg to /root/nltk_data...\n",
            "[nltk_data]   Package gutenberg is already up-to-date!\n",
            "[nltk_data] Downloading package punkt to /root/nltk_data...\n",
            "[nltk_data]   Package punkt is already up-to-date!\n",
            "Mounted at /content/drive/\n"
          ],
          "name": "stdout"
        },
        {
          "output_type": "display_data",
          "data": {
            "image/png": "[encoded data removed]",
            "text/plain": [
              "<Figure size 640x480 with 1 Axes>"
            ]
          },
          "metadata": {
            "tags": []
          }
        }
      ]
    },
    {
      "metadata": {
        "id": "9zseO-M99qzN",
        "colab_type": "code",
        "colab": {}
      },
      "cell_type": "code",
      "source": [
        "from google.colab import drive\n",
        "drive.mount('/content/drive')"
      ],
      "execution_count": 0,
      "outputs": []
    },
    {
      "metadata": {
        "id": "_1ZqjU_DyoUd",
        "colab_type": "text"
      },
      "cell_type": "markdown",
      "source": [
        "# New Section"
      ]
    }
  ]
}