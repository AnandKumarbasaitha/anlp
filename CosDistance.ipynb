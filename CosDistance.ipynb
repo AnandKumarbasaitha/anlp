{
 "cells": [
  {
   "cell_type": "markdown",
   "metadata": {
    "id": "view-in-github",
    "colab_type": "text"
   },
   "source": [
    "<a href=\"https://colab.research.google.com/github/Ramaseshanr/ANLP/blob/master/CosDistance.ipynb\" target=\"_parent\"><img src=\"https://colab.research.google.com/assets/colab-badge.svg\" alt=\"Open In Colab\"/></a>"
   ]
  },
  {
   "cell_type": "code",
   "execution_count": 6,
   "metadata": {
    "id": "pO-_w1mdgqaA",
    "colab_type": "code",
    "outputId": "e36fed24-dd85-48ca-ac59-0a47555844d9",
    "colab": {
     "base_uri": "https://localhost:8080/",
     "height": 555.0
    }
   },
   "outputs": [
    {
     "name": "stdout",
     "output_type": "stream",
     "text": [
      "       D0    D1    D2    D3    D4    D5    D6    D7    D8    D9   D10\nD0    0.0  26.7  90.0  48.4  47.5  48.2  42.6  58.0  45.8  65.3  62.6\nD1   26.7   0.0  90.0  46.9  54.5  66.0  42.3  67.3  47.0  73.7  59.0\nD2   90.0  90.0   0.0  56.5  55.0  71.8  59.5  81.4  64.8  41.7  61.7\nD3   48.4  46.9  56.5   0.0  24.4  46.6  28.5  58.5  38.3  45.2  49.7\nD4   47.5  54.5  55.0  24.4   0.0  33.7  37.6  46.9  37.1  25.9  39.3\nD5   48.2  66.0  71.8  46.6  33.7   0.0  58.1  54.3  57.9  40.5  61.2\nD6   42.6  42.3  59.5  28.5  37.6  58.1   0.0  63.0  41.1  53.5  50.5\nD7   58.0  67.3  81.4  58.5  46.9  54.3  63.0   0.0  34.9  51.1  69.1\nD8   45.8  47.0  64.8  38.3  37.1  57.9  41.1  34.9   0.0  47.2  61.5\nD9   65.3  73.7  41.7  45.2  25.9  40.5  53.5  51.1  47.2   0.0  44.5\nD10  62.6  59.0  61.7  49.7  39.3  61.2  50.5  69.1  61.5  44.5   0.0\n"
     ]
    }
   ],
   "source": [
    "#  MIT License\n",
    "#  Copyright (c) 2019.\n",
    "#  Project Name: ANLP\n",
    "#  File name: code.py\n",
    "#  Last modification date: 1/1/70 5:30 AM\n",
    "#  Author: ramaseshan\n",
    "# \n",
    "\n",
    "from numpy import *\n",
    "from numpy import dot\n",
    "from numpy.linalg import norm\n",
    "import numpy as np\n",
    "import pandas as pd\n",
    "import math\n",
    "import matplotlib.pyplot as plt\n",
    "from matplotlib.patches import Arc\n",
    "\n",
    "def find_end_points(point, angle, length):\n",
    "    ''' \n",
    "    #Source - https://stackoverflow.com/questions/28417604/plotting-a-line-from-a-coordinate-with-and-angle\n",
    "    #\n",
    "    point - Tuple (x, y)\n",
    "    angle - Angle you want your end point at in degrees.\n",
    "    length - Length of the line you want to plot.\n",
    "\n",
    "    Will plot the line on a 10 x 10 plot.\n",
    "    '''\n",
    "\n",
    "    # unpack the first point\n",
    "    x, y = point\n",
    "\n",
    "    # find the end point\n",
    "    endy = length * math.sin(math.radians(angle))\n",
    "    endx = length * math.cos(math.radians(angle))\n",
    "\n",
    "    # plot the points\n",
    "    #fig = plt.figure()\n",
    "    #ax = plt.subplot(111)\n",
    "\n",
    "    return ([x,endx],[y,endy])\n",
    "    #ax.plot([x, endx], [y, endy])\n",
    "    \n",
    "\n",
    "    #return fig\n",
    "\n",
    "doc_term = array([\n",
    "    [0.1, 0.1, 0.0, 0.1, 0.2, 0.0, 0.1, 0.9, 0.9, 0.3, 0.0, 0.8],\n",
    "    [0.1, 0.1, 0.0, 0.1, 0.2, 0.0, 0.1, 0.9, 0.9, 0.3, 0.0, 0.8],\n",
    "    [0.0, 0.0, 0.9, 0.2, 0.3, 0.1, 0.7, 0.0, 0.2, 0.7, 0.5, 0.5],\n",
    "    [0.0, 0.0, 0.9, 0.9, 0.5, 0.1, 0.9, 0.3, 0.8, 0.4, 0.1, 0.4],\n",
    "    [0.4, 0.0, 0.0, 0.2, 0.5, 0.9, 0.3, 0.7, 0.4, 0.6, 0.0, 0.3],\n",
    "    [0.6, 0.6, 0.0, 0.7, 0.3, 0.3, 0.9, 0.1, 0.9, 0.0, 0.0, 0.3],\n",
    "    [0.0, 0.0, 0.8, 0.6, 0.6, 0.6, 0.0, 0.1, 0.4, 0.9, 0.3, 0.1],\n",
    "    [0.4, 0.4, 0.0, 0.5, 0.5, 0.1, 0.7, 0.1, 0.5, 0.3, 0.8, 0.1],\n",
    "    [0.3, 0.3, 0.0, 0.9, 0.8, 0.7, 0.7, 0.8, 0.6, 0.6, 0.8, 0.0],\n",
    "    [0.0, 0.0, 0.5, 0.0, 0.2, 0.0, 0.0, 0.1, 0.3, 0.4, 0.5, 0.3]\n",
    "])\n",
    "\n",
    "cos_list = []\n",
    "pd_cols = []\n",
    "column_header = ['D0','D1','D2','D3','D4','D5','D6','D7','D8','D9','D10']\n",
    "row_header = ['D0','D1','D2','D3','D4','D5','D6','D7','D8','D9','D10']\n",
    "for i in range(0,11):\n",
    "    for j in range(0,11):\n",
    "        cos_value = dot(transpose(doc_term[:, [i]]), doc_term[:, [j]]) / (norm(doc_term[:, [j]]) * norm(doc_term[:, [i]])).tolist()\n",
    "        cos_list.append( asscalar( around(math.degrees(math.acos(min(max(cos_value,-1.0),1.0))), decimals=1) ))\n",
    "    pd_cols.append(cos_list)\n",
    "    cos_list = []\n",
    "df = pd.DataFrame(pd_cols, columns=column_header,index=row_header)\n",
    "print(df)\n",
    "fig = plt.figure()\n",
    "ax = plt.subplot(111)\n",
    "ax.set_ylim([0, 1.75])  # set the bounds to be 10, 10\n",
    "ax.set_xlim([0, 1.75])\n",
    "\n",
    "ref_doc = 0\n",
    "for i in range (0,11):\n",
    "    X, Y = find_end_points([0, 0], df.iloc[ref_doc][i], norm(doc_term[:, [i]]))\n",
    "    ax.plot(X,Y)\n",
    "    ax.annotate(\"\", xy=(X[1],Y[1]), xytext=(0, 0),arrowprops=dict(arrowstyle=\"->\"))    \n",
    "    ax.text(X[1],Y[1],\"D\" + str(ref_doc) + \"-\"+\"D\"+str(i)+\"-(\"+str(df.iloc[ref_doc][i]) +u\"\\u00b0\"+\")\")\n",
    "    #ax.add_patch(Arc((0,0), .25+i/12.0, .25+i/12.0, theta1=0.0, theta2=df.iloc[0][i], edgecolor='r', lw=1.5, label = str(df.iloc[0][i])+u\"\\u00b0\"))\n",
    "fig.savefig('CosineDistance.pdf')"
   ]
  },
  {
   "cell_type": "code",
   "execution_count": 2,
   "metadata": {},
   "outputs": [],
   "source": []
  },
  {
   "cell_type": "code",
   "execution_count": null,
   "metadata": {},
   "outputs": [],
   "source": []
  }
 ],
 "metadata": {
  "colab": {
   "name": "CosDistance.ipynb",
   "version": "0.3.2",
   "provenance": [],
   "collapsed_sections": [],
   "include_colab_link": true
  },
  "kernelspec": {
   "name": "python3",
   "display_name": "Python 3"
  }
 },
 "nbformat": 4,
 "nbformat_minor": 0
}
