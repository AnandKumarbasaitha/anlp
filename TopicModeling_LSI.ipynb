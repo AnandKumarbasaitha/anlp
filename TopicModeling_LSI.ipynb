{
  "nbformat": 4,
  "nbformat_minor": 0,
  "metadata": {
    "colab": {
      "name": "TopicModeling_LSI.ipynb",
      "version": "0.3.2",
      "provenance": [],
      "include_colab_link": true
    },
    "kernelspec": {
      "name": "python3",
      "display_name": "Python 3"
    }
  },
  "cells": [
    {
      "cell_type": "markdown",
      "metadata": {
        "id": "view-in-github",
        "colab_type": "text"
      },
      "source": [
        "<a href=\"https://colab.research.google.com/github/Ramaseshanr/anlp/blob/master/TopicModeling_LSI.ipynb\" target=\"_parent\"><img src=\"https://colab.research.google.com/assets/colab-badge.svg\" alt=\"Open In Colab\"/></a>"
      ]
    },
    {
      "cell_type": "code",
      "metadata": {
        "id": "UQPKu_7IyqAo",
        "colab_type": "code",
        "colab": {
          "base_uri": "https://localhost:8080/",
          "height": 451
        },
        "outputId": "834d77dc-c15e-45d4-dd03-75bb21d45d89"
      },
      "source": [
        "import os\n",
        "import gensim\n",
        "from gensim.models import LsiModel\n",
        "from gensim import models\n",
        "from gensim import corpora\n",
        "from gensim.utils import lemmatize\n",
        "import nltk\n",
        "from nltk.stem import PorterStemmer\n",
        "from nltk.corpus import stopwords\n",
        "from gensim.parsing.preprocessing import remove_stopwords, stem_text\n",
        "from gensim.parsing.preprocessing import strip_numeric, strip_short,strip_multiple_whitespaces,strip_non_alphanum,strip_punctuation,strip_tags,preprocess_string\n",
        "import pandas as pd\n",
        "from gensim import similarities\n",
        "from nltk.tokenize import RegexpTokenizer\n",
        "from nltk.corpus import stopwords\n",
        "from nltk.stem.porter import PorterStemmer\n",
        "from gensim.models.coherencemodel import CoherenceModel\n",
        "import matplotlib.pyplot as plt\n",
        "from pprint import pprint\n",
        "\n",
        "\n",
        "\n",
        "#read the data\n",
        "corpus_dir = 'https://raw.githubusercontent.com/Ramaseshanr/anlp/master/corpus/bbc-text.csv'\n",
        "df_corpus = pd.read_csv(corpus_dir,names=['category', 'text'])\n",
        "corpus = df_corpus['text'].values.tolist()\n",
        "corpus = corpus[1:]\n",
        "my_filter = [\n",
        "    lambda x: x.lower(), strip_tags, strip_punctuation,\n",
        "    strip_multiple_whitespaces, strip_numeric,\n",
        "    remove_stopwords, strip_short, stem_text\n",
        "]\n",
        "\n",
        "\n",
        "def preprocessing(corpus):\n",
        "\n",
        "    for document in corpus:\n",
        "        doc = strip_numeric(document)\n",
        "        doc = remove_stopwords(doc)\n",
        "        doc = strip_short(doc,3)\n",
        "        #doc = stem_text(doc)\n",
        "        doc = strip_punctuation(doc)\n",
        "        strip_tags(doc)\n",
        "        yield gensim.utils.tokenize(doc, lower=True)\n",
        "\n",
        "\n",
        "texts = preprocessing(corpus)\n",
        "dictionary = corpora.Dictionary(texts)\n",
        "dictionary.filter_extremes(no_below=1, keep_n=1500)\n",
        "\n",
        "doc_term_matrix = [dictionary.doc2bow(tokens) for tokens in preprocessing(corpus)]\n",
        "tfidf = models.TfidfModel(doc_term_matrix)\n",
        "corpus_tfidf = tfidf[doc_term_matrix]\n",
        "\n",
        "lsi = models.LsiModel(corpus_tfidf, id2word=dictionary)  # initialize an LSI transformation\n",
        "pprint(lsi.print_topics(num_topics=5, num_words=15))\n",
        "\n",
        "\n",
        "\n"
      ],
      "execution_count": 10,
      "outputs": [
        {
          "output_type": "stream",
          "text": [
            "[(0,\n",
            "  '0.105*\"film\" + 0.099*\"labour\" + 0.096*\"people\" + 0.096*\"bn\" + '\n",
            "  '0.091*\"government\" + 0.090*\"game\" + 0.083*\"blair\" + 0.083*\"election\" + '\n",
            "  '0.081*\"new\" + 0.079*\"best\" + 0.079*\"music\" + 0.077*\"world\" + 0.075*\"party\" '\n",
            "  '+ 0.072*\"brown\" + 0.072*\"england\"'),\n",
            " (1,\n",
            "  '0.227*\"labour\" + 0.190*\"election\" + 0.179*\"blair\" + -0.173*\"film\" + '\n",
            "  '-0.159*\"game\" + 0.149*\"party\" + 0.144*\"brown\" + -0.136*\"best\" + '\n",
            "  '0.131*\"government\" + -0.123*\"england\" + 0.123*\"tax\" + 0.112*\"bn\" + '\n",
            "  '-0.102*\"win\" + 0.099*\"chancellor\" + -0.099*\"cup\"'),\n",
            " (2,\n",
            "  '-0.243*\"labour\" + -0.208*\"blair\" + -0.193*\"election\" + -0.168*\"party\" + '\n",
            "  '-0.158*\"brown\" + 0.141*\"mobile\" + 0.139*\"bn\" + 0.122*\"sales\" + '\n",
            "  '-0.118*\"howard\" + 0.109*\"market\" + -0.108*\"england\" + 0.106*\"music\" + '\n",
            "  '0.102*\"company\" + 0.099*\"firm\" + -0.096*\"tory\"'),\n",
            " (3,\n",
            "  '0.488*\"film\" + 0.223*\"best\" + 0.198*\"awards\" + 0.174*\"award\" + '\n",
            "  '0.146*\"actor\" + 0.141*\"oscar\" + 0.135*\"actress\" + -0.132*\"england\" + '\n",
            "  '0.126*\"films\" + -0.102*\"game\" + 0.096*\"director\" + 0.095*\"nominations\" + '\n",
            "  '0.094*\"nominated\" + 0.094*\"star\" + 0.093*\"comedy\"'),\n",
            " (4,\n",
            "  '0.230*\"mobile\" + -0.209*\"bn\" + 0.152*\"phone\" + 0.150*\"music\" + '\n",
            "  '0.146*\"technology\" + 0.143*\"users\" + 0.137*\"digital\" + 0.137*\"people\" + '\n",
            "  '0.134*\"software\" + -0.128*\"economy\" + -0.127*\"oil\" + -0.127*\"m\" + '\n",
            "  '0.126*\"phones\" + -0.123*\"growth\" + 0.122*\"microsoft\"')]\n"
          ],
          "name": "stdout"
        }
      ]
    }
  ]
}