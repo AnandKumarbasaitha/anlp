{
  "nbformat": 4,
  "nbformat_minor": 0,
  "metadata": {
    "colab": {
      "name": "zipf.ipynb",
      "version": "0.3.2",
      "provenance": [],
      "include_colab_link": true
    },
    "language_info": {
      "codemirror_mode": {
        "name": "ipython",
        "version": 2
      },
      "file_extension": ".py",
      "mimetype": "text/x-python",
      "name": "python",
      "nbconvert_exporter": "python",
      "pygments_lexer": "ipython2",
      "version": "2.7.6"
    },
    "kernelspec": {
      "display_name": "Python 2",
      "language": "python",
      "name": "python2"
    }
  },
  "cells": [
    {
      "cell_type": "markdown",
      "metadata": {
        "id": "view-in-github",
        "colab_type": "text"
      },
      "source": [
        "<a href=\"https://colab.research.google.com/github/Ramaseshanr/anlp/blob/master/zipf.ipynb\" target=\"_parent\"><img src=\"https://colab.research.google.com/assets/colab-badge.svg\" alt=\"Open In Colab\"/></a>"
      ]
    },
    {
      "cell_type": "code",
      "metadata": {
        "id": "_ANCm-QQo4FO",
        "colab_type": "code",
        "colab": {
          "base_uri": "https://localhost:8080/",
          "height": 1217
        },
        "outputId": "3984410e-f596-4fc6-dfad-afc6976b7d9e"
      },
      "source": [
        "\n",
        "#  MIT License\n",
        "#  Copyright (c) 2019.\n",
        "#  Project Name: ANLP\n",
        "#  File name: code.py\n",
        "#  Last modification date: 2/28/19 2:21 PM\n",
        "#  Author: ramaseshan\n",
        "#  Email:ramaseshanr@yahoo.com\n",
        "#  /zipf.py\n",
        "# \n",
        "\n",
        "import re\n",
        "from operator import itemgetter\n",
        "import nltk\n",
        "import pandas as pd\n",
        "import matplotlib.pyplot as plt\n",
        "import math\n",
        "\n",
        "nltk.download('gutenberg')\n",
        "frequency = {}\n",
        "words_emma = nltk.Text(nltk.corpus.gutenberg.words('austen-emma.txt'))\n",
        "\n",
        "for word in words_emma:\n",
        "    count = frequency.get(word, 0)\n",
        "    frequency[word] = count + 1\n",
        "\n",
        "rank = 1;\n",
        "column_header = ['Rank', 'Frequency', 'Frequency*Rank']\n",
        "tf_row = []\n",
        "row = []\n",
        "df = pd.DataFrame(columns=column_header)\n",
        "pd_cols = []\n",
        "rows = []\n",
        "\n",
        "for word, freq in reversed(sorted(frequency.items(), key=itemgetter(1))):\n",
        "    df.loc[word] = [rank,freq,rank*freq]\n",
        "    rank = rank+1\n",
        "    \n",
        "\n",
        "print(df)"
      ],
      "execution_count": 7,
      "outputs": [
        {
          "output_type": "stream",
          "text": [
            "[nltk_data] Downloading package gutenberg to /root/nltk_data...\n",
            "[nltk_data]   Package gutenberg is already up-to-date!\n",
            "              Rank Frequency Frequency*Rank\n",
            ",                1     11454          11454\n",
            ".                2      6928          13856\n",
            "to               3      5183          15549\n",
            "the              4      4844          19376\n",
            "and              5      4672          23360\n",
            "of               6      4279          25674\n",
            "I                7      3178          22246\n",
            "a                8      3004          24032\n",
            "was              9      2385          21465\n",
            "her             10      2381          23810\n",
            ";               11      2199          24189\n",
            "it              12      2128          25536\n",
            "in              13      2118          27534\n",
            "not             14      2101          29414\n",
            "\"               15      2004          30060\n",
            "be              16      1970          31520\n",
            "she             17      1778          30226\n",
            "that            18      1730          31140\n",
            "you             19      1677          31863\n",
            "had             20      1606          32120\n",
            "as              21      1387          29127\n",
            "--              22      1382          30404\n",
            "he              23      1365          31395\n",
            "for             24      1321          31704\n",
            "have            25      1301          32525\n",
            "is              26      1220          31720\n",
            "with            27      1187          32049\n",
            "Mr              28      1153          32284\n",
            "very            29      1151          33379\n",
            "but             30      1148          34440\n",
            "...            ...       ...            ...\n",
            "eatable       7782         1           7782\n",
            "pursue        7783         1           7783\n",
            "locked        7784         1           7784\n",
            "whirling      7785         1           7785\n",
            "impartiality  7786         1           7786\n",
            "reproaching   7787         1           7787\n",
            "cherishing    7788         1           7788\n",
            "secluded      7789         1           7789\n",
            "_would_       7790         1           7790\n",
            "criticism     7791         1           7791\n",
            "military      7792         1           7792\n",
            "reports       7793         1           7793\n",
            "properest     7794         1           7794\n",
            "interrupting  7795         1           7795\n",
            "Wrong         7796         1           7796\n",
            "contributed   7797         1           7797\n",
            "tires         7798         1           7798\n",
            "preface       7799         1           7799\n",
            "Acquit        7800         1           7800\n",
            "_answer_      7801         1           7801\n",
            "woods         7802         1           7802\n",
            "scholar       7803         1           7803\n",
            "stabbed       7804         1           7804\n",
            "stipulate     7805         1           7805\n",
            "eligibly      7806         1           7806\n",
            "Fetch         7807         1           7807\n",
            "unanswered    7808         1           7808\n",
            "scold         7809         1           7809\n",
            "briskness     7810         1           7810\n",
            "aggression    7811         1           7811\n",
            "\n",
            "[7811 rows x 3 columns]\n"
          ],
          "name": "stdout"
        }
      ]
    },
    {
      "cell_type": "code",
      "metadata": {
        "id": "xAxFwyCWo4Fk",
        "colab_type": "code",
        "colab": {}
      },
      "source": [
        ""
      ],
      "execution_count": 0,
      "outputs": []
    },
    {
      "cell_type": "code",
      "metadata": {
        "id": "X3N590aGo4Fv",
        "colab_type": "code",
        "colab": {}
      },
      "source": [
        ""
      ],
      "execution_count": 0,
      "outputs": []
    },
    {
      "cell_type": "code",
      "metadata": {
        "id": "a44eC1GQo4F1",
        "colab_type": "code",
        "colab": {}
      },
      "source": [
        ""
      ],
      "execution_count": 0,
      "outputs": []
    }
  ]
}