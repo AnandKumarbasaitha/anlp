{
 "cells": [
  {
   "cell_type": "code",
   "execution_count": null,
   "metadata": {
    "collapsed": true
   },
   "outputs": [],
   "source": [
    "#  MIT License\n",
    "#  Copyright (c) 2019.\n",
    "#  Project Name: ANLP\n",
    "#  File name: code.py\n",
    "#  Last modification date: 2/28/19 2:21 PM\n",
    "#  Author: ramaseshan\n",
    "#  Email:ramaseshanr@yahoo.com\n",
    "#  /code.py\n",
    "# \n",
    "\n",
    "\n",
    "import re\n",
    "from operator import itemgetter\n",
    "import nltk\n",
    "from nltk.corpus import stopwords\n",
    "\n",
    "frequency = {}\n",
    "words_emma = nltk.Text(nltk.corpus.gutenberg.words('austen-emma.txt'))\n",
    "\n",
    "for word in words_emma:\n",
    "    count = frequency.get(word, 0)\n",
    "    frequency[word] = count + 1\n",
    "\n",
    "rank = 1;\n",
    "print('Word&Frequency&Rank&f.r')\n",
    "for word, freq in reversed(sorted(frequency.items(), key=itemgetter(1))):\n",
    "    print (   word, '&',freq, '&',rank,'&',rank*freq )\n",
    "    rank = rank+1"
   ]
  }
 ],
 "metadata": {
  "kernelspec": {
   "display_name": "Python 2",
   "language": "python",
   "name": "python2"
  },
  "language_info": {
   "codemirror_mode": {
    "name": "ipython",
    "version": 2
   },
   "file_extension": ".py",
   "mimetype": "text/x-python",
   "name": "python",
   "nbconvert_exporter": "python",
   "pygments_lexer": "ipython2",
   "version": "2.7.6"
  }
 },
 "nbformat": 4,
 "nbformat_minor": 0
}
